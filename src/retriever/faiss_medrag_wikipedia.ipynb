{
  "cells": [
    {
      "cell_type": "markdown",
      "metadata": {},
      "source": [
        "## 1. Install and Import Dependencies\n"
      ]
    },
    {
      "cell_type": "code",
      "execution_count": null,
      "metadata": {},
      "outputs": [],
      "source": [
        "# Install required packages\n",
        "%pip install datasets faiss-cpu sentence-transformers pandas numpy\n"
      ]
    },
    {
      "cell_type": "code",
      "execution_count": 2,
      "metadata": {},
      "outputs": [],
      "source": [
        "import numpy as np\n",
        "import pandas as pd\n",
        "import faiss\n",
        "from datasets import load_dataset, Dataset\n",
        "from sentence_transformers import SentenceTransformer\n",
        "from typing import List, Tuple\n",
        "import time\n"
      ]
    },
    {
      "cell_type": "markdown",
      "metadata": {},
      "source": [
        "## 2. Load the Dataset\n"
      ]
    },
    {
      "cell_type": "code",
      "execution_count": null,
      "metadata": {},
      "outputs": [
        {
          "name": "stdout",
          "output_type": "stream",
          "text": [
            "Loading (streaming) …\n",
            "Dataset loaded successfully!\n",
            "Number of entries: 1000\n",
            "{'id': 'wiki20220301en000_0', 'title': 'Anarchism', 'content': 'Anarchism is a political philosophy and movement that is sceptical of authority and rejects all involuntary, coercive forms of hierarchy. Anarchism calls for the abolition of the state, which it holds to be unnecessary, undesirable, and harmful. As a historically left-wing movement, placed on the farthest left of the political spectrum, it is usually described alongside communalism and libertarian Marxism as the libertarian wing (libertarian socialism) of the socialist movement, and has a strong historical association with anti-capitalism and socialism.', 'contents': 'Anarchism. Anarchism is a political philosophy and movement that is sceptical of authority and rejects all involuntary, coercive forms of hierarchy. Anarchism calls for the abolition of the state, which it holds to be unnecessary, undesirable, and harmful. As a historically left-wing movement, placed on the farthest left of the political spectrum, it is usually described alongside communalism and libertarian Marxism as the libertarian wing (libertarian socialism) of the socialist movement, and has a strong historical association with anti-capitalism and socialism.', 'wiki_id': '12'}\n"
          ]
        }
      ],
      "source": [
        "print(\"Loading (streaming) …\")\n",
        "stream = load_dataset(\"MedRAG/wikipedia\", split=\"train\", streaming=True)\n",
        "\n",
        "# Only iterate the first 1000 examples\n",
        "first_1k_iter = stream.take(1000) # change this line to load more data\n",
        "\n",
        "ds = Dataset.from_list(list(first_1k_iter))\n",
        "print(\"Dataset loaded successfully!\")\n",
        "print(f\"Number of entries: {len(ds)}\")\n",
        "print(ds[0])\n",
        "\n"
      ]
    },
    {
      "cell_type": "code",
      "execution_count": 6,
      "metadata": {},
      "outputs": [
        {
          "name": "stdout",
          "output_type": "stream",
          "text": [
            "Number of documents: 1000\n",
            "\n",
            "Dataset features: {'id': Value('string'), 'title': Value('string'), 'content': Value('string'), 'contents': Value('string'), 'wiki_id': Value('string')}\n",
            "\n",
            "First example:\n",
            "{'id': 'wiki20220301en000_0', 'title': 'Anarchism', 'content': 'Anarchism is a political philosophy and movement that is sceptical of authority and rejects all involuntary, coercive forms of hierarchy. Anarchism calls for the abolition of the state, which it holds to be unnecessary, undesirable, and harmful. As a historically left-wing movement, placed on the farthest left of the political spectrum, it is usually described alongside communalism and libertarian Marxism as the libertarian wing (libertarian socialism) of the socialist movement, and has a strong historical association with anti-capitalism and socialism.', 'contents': 'Anarchism. Anarchism is a political philosophy and movement that is sceptical of authority and rejects all involuntary, coercive forms of hierarchy. Anarchism calls for the abolition of the state, which it holds to be unnecessary, undesirable, and harmful. As a historically left-wing movement, placed on the farthest left of the political spectrum, it is usually described alongside communalism and libertarian Marxism as the libertarian wing (libertarian socialism) of the socialist movement, and has a strong historical association with anti-capitalism and socialism.', 'wiki_id': '12'}\n"
          ]
        }
      ],
      "source": [
        "# Explore the dataset structure\n",
        "corpus = ds\n",
        "print(f\"Number of documents: {len(corpus)}\")\n",
        "print(f\"\\nDataset features: {corpus.features}\")\n",
        "print(f\"\\nFirst example:\")\n",
        "print(corpus[0])\n"
      ]
    },
    {
      "cell_type": "code",
      "execution_count": 7,
      "metadata": {},
      "outputs": [
        {
          "name": "stdout",
          "output_type": "stream",
          "text": [
            "Dataset shape: (1000, 5)\n",
            "\n",
            "Column names: ['id', 'title', 'content', 'contents', 'wiki_id']\n"
          ]
        },
        {
          "data": {
            "text/html": [
              "<div>\n",
              "<style scoped>\n",
              "    .dataframe tbody tr th:only-of-type {\n",
              "        vertical-align: middle;\n",
              "    }\n",
              "\n",
              "    .dataframe tbody tr th {\n",
              "        vertical-align: top;\n",
              "    }\n",
              "\n",
              "    .dataframe thead th {\n",
              "        text-align: right;\n",
              "    }\n",
              "</style>\n",
              "<table border=\"1\" class=\"dataframe\">\n",
              "  <thead>\n",
              "    <tr style=\"text-align: right;\">\n",
              "      <th></th>\n",
              "      <th>id</th>\n",
              "      <th>title</th>\n",
              "      <th>content</th>\n",
              "      <th>contents</th>\n",
              "      <th>wiki_id</th>\n",
              "    </tr>\n",
              "  </thead>\n",
              "  <tbody>\n",
              "    <tr>\n",
              "      <th>0</th>\n",
              "      <td>wiki20220301en000_0</td>\n",
              "      <td>Anarchism</td>\n",
              "      <td>Anarchism is a political philosophy and moveme...</td>\n",
              "      <td>Anarchism. Anarchism is a political philosophy...</td>\n",
              "      <td>12</td>\n",
              "    </tr>\n",
              "    <tr>\n",
              "      <th>1</th>\n",
              "      <td>wiki20220301en000_1</td>\n",
              "      <td>Anarchism</td>\n",
              "      <td>Humans lived in societies without formal hiera...</td>\n",
              "      <td>Anarchism. Humans lived in societies without f...</td>\n",
              "      <td>12</td>\n",
              "    </tr>\n",
              "    <tr>\n",
              "      <th>2</th>\n",
              "      <td>wiki20220301en000_2</td>\n",
              "      <td>Anarchism</td>\n",
              "      <td>Anarchism employs a diversity of tactics in or...</td>\n",
              "      <td>Anarchism. Anarchism employs a diversity of ta...</td>\n",
              "      <td>12</td>\n",
              "    </tr>\n",
              "    <tr>\n",
              "      <th>3</th>\n",
              "      <td>wiki20220301en000_3</td>\n",
              "      <td>Anarchism</td>\n",
              "      <td>Etymology, terminology, and definition The ety...</td>\n",
              "      <td>Anarchism. Etymology, terminology, and definit...</td>\n",
              "      <td>12</td>\n",
              "    </tr>\n",
              "    <tr>\n",
              "      <th>4</th>\n",
              "      <td>wiki20220301en000_4</td>\n",
              "      <td>Anarchism</td>\n",
              "      <td>The first political philosopher to call himsel...</td>\n",
              "      <td>Anarchism. The first political philosopher to ...</td>\n",
              "      <td>12</td>\n",
              "    </tr>\n",
              "  </tbody>\n",
              "</table>\n",
              "</div>"
            ],
            "text/plain": [
              "                    id      title  \\\n",
              "0  wiki20220301en000_0  Anarchism   \n",
              "1  wiki20220301en000_1  Anarchism   \n",
              "2  wiki20220301en000_2  Anarchism   \n",
              "3  wiki20220301en000_3  Anarchism   \n",
              "4  wiki20220301en000_4  Anarchism   \n",
              "\n",
              "                                             content  \\\n",
              "0  Anarchism is a political philosophy and moveme...   \n",
              "1  Humans lived in societies without formal hiera...   \n",
              "2  Anarchism employs a diversity of tactics in or...   \n",
              "3  Etymology, terminology, and definition The ety...   \n",
              "4  The first political philosopher to call himsel...   \n",
              "\n",
              "                                            contents wiki_id  \n",
              "0  Anarchism. Anarchism is a political philosophy...      12  \n",
              "1  Anarchism. Humans lived in societies without f...      12  \n",
              "2  Anarchism. Anarchism employs a diversity of ta...      12  \n",
              "3  Anarchism. Etymology, terminology, and definit...      12  \n",
              "4  Anarchism. The first political philosopher to ...      12  "
            ]
          },
          "execution_count": 7,
          "metadata": {},
          "output_type": "execute_result"
        }
      ],
      "source": [
        "# Convert to pandas for easier manipulation\n",
        "df = pd.DataFrame(corpus)\n",
        "print(f\"Dataset shape: {df.shape}\")\n",
        "print(f\"\\nColumn names: {df.columns.tolist()}\")\n",
        "df.head()\n"
      ]
    },
    {
      "cell_type": "markdown",
      "metadata": {},
      "source": [
        "## 3. Initialize Embedding Model"
      ]
    },
    {
      "cell_type": "code",
      "execution_count": 8,
      "metadata": {},
      "outputs": [
        {
          "name": "stdout",
          "output_type": "stream",
          "text": [
            "Loading embedding model: all-MiniLM-L6-v2\n",
            "Model loaded successfully!\n",
            "Embedding dimension: 384\n"
          ]
        }
      ],
      "source": [
        "# Initialize the embedding model\n",
        "# Using a model optimized for semantic search\n",
        "model_name = 'all-MiniLM-L6-v2'  # Fast and effective model\n",
        "print(f\"Loading embedding model: {model_name}\")\n",
        "embedding_model = SentenceTransformer(model_name)\n",
        "print(f\"Model loaded successfully!\")\n",
        "print(f\"Embedding dimension: {embedding_model.get_sentence_embedding_dimension()}\")\n"
      ]
    },
    {
      "cell_type": "markdown",
      "metadata": {},
      "source": [
        "## 4. Prepare Text for Embedding"
      ]
    },
    {
      "cell_type": "code",
      "execution_count": 9,
      "metadata": {},
      "outputs": [
        {
          "name": "stdout",
          "output_type": "stream",
          "text": [
            "Using combined 'title' and 'contents' fields\n",
            "\n",
            "Total documents to embed: 1000\n",
            "First document preview: Anarchism: Anarchism. Anarchism is a political philosophy and movement that is sceptical of authority and rejects all involuntary, coercive forms of hierarchy. Anarchism calls for the abolition of the...\n"
          ]
        }
      ],
      "source": [
        "# Determine which fields to use for embedding\n",
        "# Typically Wikipedia datasets have 'title' and 'text' or 'contents' fields\n",
        "if 'title' in df.columns and 'contents' in df.columns:\n",
        "    # Combine title and contents for better retrieval\n",
        "    documents = [f\"{title}: {content}\" for title, content in zip(df['title'], df['contents'])]\n",
        "    print(\"Using combined 'title' and 'contents' fields\")\n",
        "elif 'title' in df.columns and 'text' in df.columns:\n",
        "    documents = [f\"{title}: {text}\" for title, text in zip(df['title'], df['text'])]\n",
        "    print(\"Using combined 'title' and 'text' fields\")\n",
        "elif 'contents' in df.columns:\n",
        "    documents = df['contents'].tolist()\n",
        "    print(\"Using 'contents' field only\")\n",
        "elif 'text' in df.columns:\n",
        "    documents = df['text'].tolist()\n",
        "    print(\"Using 'text' field only\")\n",
        "else:\n",
        "    # Use the first text-like column found\n",
        "    text_column = [col for col in df.columns if df[col].dtype == 'object'][0]\n",
        "    documents = df[text_column].tolist()\n",
        "    print(f\"Using '{text_column}' field\")\n",
        "\n",
        "print(f\"\\nTotal documents to embed: {len(documents)}\")\n",
        "print(f\"First document preview: {documents[0][:200]}...\")\n"
      ]
    },
    {
      "cell_type": "markdown",
      "metadata": {},
      "source": [
        "## 5. Generate Embeddings for the Dataset"
      ]
    },
    {
      "cell_type": "code",
      "execution_count": 10,
      "metadata": {},
      "outputs": [
        {
          "name": "stdout",
          "output_type": "stream",
          "text": [
            "Generating embeddings for 1000 documents...\n",
            "Note: This may take several minutes depending on dataset size...\n"
          ]
        },
        {
          "name": "stderr",
          "output_type": "stream",
          "text": [
            "Batches: 100%|██████████| 32/32 [00:31<00:00,  1.01it/s]"
          ]
        },
        {
          "name": "stdout",
          "output_type": "stream",
          "text": [
            "\n",
            "Embeddings generated in 31.68 seconds\n",
            "Embeddings shape: (1000, 384)\n"
          ]
        },
        {
          "name": "stderr",
          "output_type": "stream",
          "text": [
            "\n"
          ]
        }
      ],
      "source": [
        "# Generate embeddings with progress tracking\n",
        "print(f\"Generating embeddings for {len(documents)} documents...\")\n",
        "print(\"Note: This may take several minutes depending on dataset size...\")\n",
        "\n",
        "start_time = time.time()\n",
        "embeddings = embedding_model.encode(\n",
        "    documents,\n",
        "    show_progress_bar=True,\n",
        "    batch_size=32,\n",
        "    convert_to_numpy=True\n",
        ")\n",
        "end_time = time.time()\n",
        "\n",
        "print(f\"\\nEmbeddings generated in {end_time - start_time:.2f} seconds\")\n",
        "print(f\"Embeddings shape: {embeddings.shape}\")\n"
      ]
    },
    {
      "cell_type": "markdown",
      "metadata": {},
      "source": [
        "## 6. Build FAISS Index"
      ]
    },
    {
      "cell_type": "code",
      "execution_count": 11,
      "metadata": {},
      "outputs": [
        {
          "name": "stdout",
          "output_type": "stream",
          "text": [
            "Building FAISS index...\n",
            "Index built successfully!\n",
            "Total vectors in index: 1000\n"
          ]
        }
      ],
      "source": [
        "# Normalize embeddings for cosine similarity\n",
        "faiss.normalize_L2(embeddings)\n",
        "\n",
        "# Get embedding dimension\n",
        "dimension = embeddings.shape[1]\n",
        "\n",
        "# Create FAISS index (using IndexFlatIP for inner product, equivalent to cosine similarity with normalized vectors)\n",
        "index = faiss.IndexFlatIP(dimension)\n",
        "\n",
        "# Add embeddings to the index\n",
        "print(f\"Building FAISS index...\")\n",
        "index.add(embeddings)\n",
        "print(f\"Index built successfully!\")\n",
        "print(f\"Total vectors in index: {index.ntotal}\")\n"
      ]
    },
    {
      "cell_type": "markdown",
      "metadata": {},
      "source": [
        "## 7. Create Retrieval Function\n"
      ]
    },
    {
      "cell_type": "code",
      "execution_count": 12,
      "metadata": {},
      "outputs": [],
      "source": [
        "def retrieve_top_k(query: str, k: int = 5) -> List[Tuple[float, dict]]:\n",
        "    \"\"\"\n",
        "    Retrieve top-k most similar documents for a given query.\n",
        "    \n",
        "    Args:\n",
        "        query: The search query\n",
        "        k: Number of results to return (default: 5)\n",
        "    \n",
        "    Returns:\n",
        "        List of tuples containing (similarity_score, document_dict)\n",
        "    \"\"\"\n",
        "    # Generate embedding for the query\n",
        "    query_embedding = embedding_model.encode([query], convert_to_numpy=True)\n",
        "    \n",
        "    # Normalize for cosine similarity\n",
        "    faiss.normalize_L2(query_embedding)\n",
        "    \n",
        "    # Search the index\n",
        "    distances, indices = index.search(query_embedding, k)\n",
        "    \n",
        "    # Retrieve and format results\n",
        "    results = []\n",
        "    for i, (distance, idx) in enumerate(zip(distances[0], indices[0])):\n",
        "        doc_info = df.iloc[idx].to_dict()\n",
        "        results.append((distance, doc_info))\n",
        "    \n",
        "    return results\n",
        "\n",
        "\n",
        "def display_results(query: str, results: List[Tuple[float, dict]]):\n",
        "    \"\"\"\n",
        "    Display retrieval results in a readable format.\n",
        "    \"\"\"\n",
        "    print(\"=\"*80)\n",
        "    print(f\"QUERY: {query}\")\n",
        "    print(\"=\"*80)\n",
        "    print()\n",
        "    \n",
        "    for i, (score, doc) in enumerate(results, 1):\n",
        "        print(f\"Result {i} (Similarity Score: {score:.4f})\")\n",
        "        print(\"-\" * 80)\n",
        "        \n",
        "        # Display title if available\n",
        "        if 'title' in doc:\n",
        "            print(f\"Title: {doc['title']}\")\n",
        "        \n",
        "        # Display content preview (first 300 characters)\n",
        "        if 'contents' in doc:\n",
        "            content = doc['contents']\n",
        "            print(f\"Content: {content[:300]}{'...' if len(content) > 300 else ''}\")\n",
        "        elif 'text' in doc:\n",
        "            content = doc['text']\n",
        "            print(f\"Content: {content[:300]}{'...' if len(content) > 300 else ''}\")\n",
        "        \n",
        "        # Display any other relevant fields\n",
        "        for key, value in doc.items():\n",
        "            if key not in ['title', 'contents', 'text'] and isinstance(value, (str, int, float)):\n",
        "                print(f\"{key.capitalize()}: {value}\")\n",
        "        \n",
        "        print()\n",
        "    print(\"=\"*80)\n"
      ]
    },
    {
      "cell_type": "markdown",
      "metadata": {},
      "source": []
    },
    {
      "cell_type": "code",
      "execution_count": 13,
      "metadata": {},
      "outputs": [
        {
          "name": "stdout",
          "output_type": "stream",
          "text": [
            "Searching for top 5 matches...\n",
            "\n",
            "================================================================================\n",
            "QUERY: What are the symptoms and treatment options for type 2 diabetes?\n",
            "================================================================================\n",
            "\n",
            "Result 1 (Similarity Score: 0.2290)\n",
            "--------------------------------------------------------------------------------\n",
            "Title: Autism\n",
            "Content: Autism. have some positive evidence, suggesting that some form of treatment is preferable to no treatment, the methodological quality of systematic reviews of these studies has generally been poor, their clinical results are mostly tentative, and there is little evidence for the relative effectivene...\n",
            "Id: wiki20220301en000_111\n",
            "Content: have some positive evidence, suggesting that some form of treatment is preferable to no treatment, the methodological quality of systematic reviews of these studies has generally been poor, their clinical results are mostly tentative, and there is little evidence for the relative effectiveness of treatment options. Intensive, sustained special education programs and behavior therapy early in life can help children acquire self-care, communication, and job skills, and often improve functioning and decrease symptom severity and maladaptive behaviors; claims that intervention by around age three years is crucial are not substantiated. While medications have not been found to help with core symptoms, they may be used for associated symptoms, such as irritability, inattention, or repetitive behavior patterns.\n",
            "Wiki_id: 25\n",
            "\n",
            "Result 2 (Similarity Score: 0.2268)\n",
            "--------------------------------------------------------------------------------\n",
            "Title: Alabama\n",
            "Content: Alabama. A Centers for Disease Control and Prevention study in 2008 showed that obesity in Alabama is a problem, with most counties having more than 29% of adults obese, except for ten which had a rate between 26% and 29%. Residents of the state, along with those in five other states, were least lik...\n",
            "Id: wiki20220301en000_250\n",
            "Content: A Centers for Disease Control and Prevention study in 2008 showed that obesity in Alabama is a problem, with most counties having more than 29% of adults obese, except for ten which had a rate between 26% and 29%. Residents of the state, along with those in five other states, were least likely in the nation to be physically active during leisure time. Alabama, and the southeastern U.S. in general, has one of the highest incidences of adult onset diabetes in the country, exceeding 10% of adults. On May 14, 2019, Alabama passed the Human Life Protection Act, banning abortion at any stage of pregnancy unless there is a \"serious health risk\", with no exceptions for rape and incest. The law, if enacted, would punish doctors who perform abortions with 10 to 99 years imprisonment and be the most restrictive abortion law in the country. However, on October 29, 2019, U.S. District Judge Myron Thompson blocked the law from taking effect. Economy\n",
            "Wiki_id: 303\n",
            "\n",
            "Result 3 (Similarity Score: 0.2077)\n",
            "--------------------------------------------------------------------------------\n",
            "Title: Autism\n",
            "Content: Autism. improvement in ASD symptoms (efficacy rate 50%) was identified. In the other two studies, whose duration was 3 months, no significant effect was observed. The authors concluded that a longer duration of the diet may be necessary to achieve the improvement of the ASD symptoms. Other problems ...\n",
            "Id: wiki20220301en000_124\n",
            "Content: improvement in ASD symptoms (efficacy rate 50%) was identified. In the other two studies, whose duration was 3 months, no significant effect was observed. The authors concluded that a longer duration of the diet may be necessary to achieve the improvement of the ASD symptoms. Other problems documented in the trials carried out include transgressions of the diet, small sample size, the heterogeneity of the participants and the possibility of a placebo effect. In the subset of people who have gluten sensitivity there is limited evidence that suggests that a gluten-free diet may improve some autistic behaviors.\n",
            "Wiki_id: 25\n",
            "\n",
            "Result 4 (Similarity Score: 0.2004)\n",
            "--------------------------------------------------------------------------------\n",
            "Title: Autism\n",
            "Content: Autism. Although many alternative therapies and interventions are available, few are supported by scientific studies. Treatment approaches have little empirical support in quality-of-life contexts, and many programs focus on success measures that lack predictive validity and real-world relevance. So...\n",
            "Id: wiki20220301en000_121\n",
            "Content: Although many alternative therapies and interventions are available, few are supported by scientific studies. Treatment approaches have little empirical support in quality-of-life contexts, and many programs focus on success measures that lack predictive validity and real-world relevance. Some alternative treatments may place the child at risk. The preference that autistic children have for unconventional foods can lead to reduction in bone cortical thickness with this being greater in those on casein-free diets, as a consequence of the low intake of calcium and vitamin D; however, suboptimal bone development in ASD has also been associated with lack of exercise and gastrointestinal disorders. In 2005, botched chelation therapy killed a five-year-old child with autism. Chelation is not recommended for autistic people since the associated risks outweigh any potential benefits. Another alternative medicine practice with no evidence is CEASE therapy, a mixture of homeopathy, supplements,\n",
            "Wiki_id: 25\n",
            "\n",
            "Result 5 (Similarity Score: 0.1966)\n",
            "--------------------------------------------------------------------------------\n",
            "Title: Autism\n",
            "Content: Autism. Although popularly used as an alternative treatment for autistic people, as of 2018 there is no good evidence to recommend a gluten- and casein-free diet as a standard treatment. A 2018 review concluded that it may be a therapeutic option for specific groups of children with autism, such as ...\n",
            "Id: wiki20220301en000_123\n",
            "Content: Although popularly used as an alternative treatment for autistic people, as of 2018 there is no good evidence to recommend a gluten- and casein-free diet as a standard treatment. A 2018 review concluded that it may be a therapeutic option for specific groups of children with autism, such as those with known food intolerances or allergies, or with food intolerance markers. The authors analyzed the prospective trials conducted to date that studied the efficacy of the gluten- and casein-free diet in children with ASD (4 in total). All of them compared gluten- and casein-free diet versus normal diet with a control group (2 double-blind randomized controlled trials, 1 double-blind crossover trial, 1 single-blind trial). In two of the studies, whose duration was 12 and 24 months, a significant improvement in ASD symptoms (efficacy rate 50%) was identified. In the other two studies, whose duration was 3 months, no significant effect was observed. The authors concluded that a longer duration\n",
            "Wiki_id: 25\n",
            "\n",
            "================================================================================\n"
          ]
        }
      ],
      "source": [
        "# Example query about diabetes\n",
        "example_query = \"What are the symptoms and treatment options for type 2 diabetes?\"\n",
        "\n",
        "# Retrieve top 5 matches\n",
        "print(\"Searching for top 5 matches...\\n\")\n",
        "results = retrieve_top_k(example_query, k=5)\n",
        "\n",
        "# Display results\n",
        "display_results(example_query, results)\n"
      ]
    },
    {
      "cell_type": "markdown",
      "metadata": {},
      "source": [
        "## 9. Additional Examples"
      ]
    },
    {
      "cell_type": "code",
      "execution_count": 14,
      "metadata": {},
      "outputs": [
        {
          "name": "stdout",
          "output_type": "stream",
          "text": [
            "================================================================================\n",
            "QUERY: What causes high blood pressure and how is it treated?\n",
            "================================================================================\n",
            "\n",
            "Result 1 (Similarity Score: 0.2153)\n",
            "--------------------------------------------------------------------------------\n",
            "Title: Aristotle\n",
            "Content: Aristotle. On Early Modern scientists In the Early Modern period, scientists such as William Harvey in England and Galileo Galilei in Italy reacted against the theories of Aristotle and other classical era thinkers like Galen, establishing new theories based to some degree on observation and experim...\n",
            "Id: wiki20220301en000_578\n",
            "Content: On Early Modern scientists In the Early Modern period, scientists such as William Harvey in England and Galileo Galilei in Italy reacted against the theories of Aristotle and other classical era thinkers like Galen, establishing new theories based to some degree on observation and experiment. Harvey demonstrated the circulation of the blood, establishing that the heart functioned as a pump rather than being the seat of the soul and the controller of the body's heat, as Aristotle thought. Galileo used more doubtful arguments to displace Aristotle's physics, proposing that bodies all fall at the same speed whatever their weight. On 18th/19th-century thinkers\n",
            "Wiki_id: 308\n",
            "\n",
            "Result 2 (Similarity Score: 0.2049)\n",
            "--------------------------------------------------------------------------------\n",
            "Title: Autism\n",
            "Content: Autism. Epilepsy, with variations in risk of epilepsy due to age, cognitive level, and type of language disorder. Several metabolic defects, such as phenylketonuria, are associated with autistic symptoms. Minor physical anomalies are significantly increased in the autistic population. Preempted diag...\n",
            "Id: wiki20220301en000_133\n",
            "Content: Epilepsy, with variations in risk of epilepsy due to age, cognitive level, and type of language disorder. Several metabolic defects, such as phenylketonuria, are associated with autistic symptoms. Minor physical anomalies are significantly increased in the autistic population. Preempted diagnoses. Although the DSM-IV rules out the concurrent diagnosis of many other conditions along with autism, the full criteria for Attention deficit hyperactivity disorder (ADHD), Tourette syndrome, and other of these conditions are often present and these co-occurrent conditions are increasingly accepted.\n",
            "Wiki_id: 25\n",
            "\n",
            "Result 3 (Similarity Score: 0.1890)\n",
            "--------------------------------------------------------------------------------\n",
            "Title: Autism\n",
            "Content: Autism. Medication\n",
            "Id: wiki20220301en000_117\n",
            "Content: Medication\n",
            "Wiki_id: 25\n",
            "\n",
            "Result 4 (Similarity Score: 0.1747)\n",
            "--------------------------------------------------------------------------------\n",
            "Title: Aristotle\n",
            "Content: Aristotle. Newton's \"forced\" motion corresponds to Aristotle's \"violent\" motion with its external agent, but Aristotle's assumption that the agent's effect stops immediately it stops acting (e.g., the ball leaves the thrower's hand) has awkward consequences: he has to suppose that surrounding fluid ...\n",
            "Id: wiki20220301en000_524\n",
            "Content: Newton's \"forced\" motion corresponds to Aristotle's \"violent\" motion with its external agent, but Aristotle's assumption that the agent's effect stops immediately it stops acting (e.g., the ball leaves the thrower's hand) has awkward consequences: he has to suppose that surrounding fluid helps to push the ball along to make it continue to rise even though the hand is no longer acting on it, resulting in the Medieval theory of impetus. Four causes\n",
            "Wiki_id: 308\n",
            "\n",
            "Result 5 (Similarity Score: 0.1667)\n",
            "--------------------------------------------------------------------------------\n",
            "Title: Alabama\n",
            "Content: Alabama. A Centers for Disease Control and Prevention study in 2008 showed that obesity in Alabama is a problem, with most counties having more than 29% of adults obese, except for ten which had a rate between 26% and 29%. Residents of the state, along with those in five other states, were least lik...\n",
            "Id: wiki20220301en000_250\n",
            "Content: A Centers for Disease Control and Prevention study in 2008 showed that obesity in Alabama is a problem, with most counties having more than 29% of adults obese, except for ten which had a rate between 26% and 29%. Residents of the state, along with those in five other states, were least likely in the nation to be physically active during leisure time. Alabama, and the southeastern U.S. in general, has one of the highest incidences of adult onset diabetes in the country, exceeding 10% of adults. On May 14, 2019, Alabama passed the Human Life Protection Act, banning abortion at any stage of pregnancy unless there is a \"serious health risk\", with no exceptions for rape and incest. The law, if enacted, would punish doctors who perform abortions with 10 to 99 years imprisonment and be the most restrictive abortion law in the country. However, on October 29, 2019, U.S. District Judge Myron Thompson blocked the law from taking effect. Economy\n",
            "Wiki_id: 303\n",
            "\n",
            "================================================================================\n"
          ]
        }
      ],
      "source": [
        "# Example 2: Cardiovascular query\n",
        "query_2 = \"What causes high blood pressure and how is it treated?\"\n",
        "results_2 = retrieve_top_k(query_2, k=5)\n",
        "display_results(query_2, results_2)\n"
      ]
    },
    {
      "cell_type": "code",
      "execution_count": null,
      "metadata": {},
      "outputs": [],
      "source": [
        "# Example 3: Infectious disease query\n",
        "query_3 = \"How does the immune system fight bacterial infections?\"\n",
        "results_3 = retrieve_top_k(query_3, k=5)\n",
        "display_results(query_3, results_3)\n"
      ]
    }
  ],
  "metadata": {
    "kernelspec": {
      "display_name": "Python 3",
      "language": "python",
      "name": "python3"
    },
    "language_info": {
      "codemirror_mode": {
        "name": "ipython",
        "version": 3
      },
      "file_extension": ".py",
      "mimetype": "text/x-python",
      "name": "python",
      "nbconvert_exporter": "python",
      "pygments_lexer": "ipython3",
      "version": "3.10.4"
    }
  },
  "nbformat": 4,
  "nbformat_minor": 2
}
